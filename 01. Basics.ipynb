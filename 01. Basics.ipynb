{
 "cells": [
  {
   "cell_type": "markdown",
   "id": "df4cc613",
   "metadata": {},
   "source": [
    "# 01. Basics"
   ]
  },
  {
   "cell_type": "markdown",
   "id": "9d2986c5",
   "metadata": {},
   "source": [
    "## Aula 02 - Instalações"
   ]
  },
  {
   "cell_type": "code",
   "execution_count": 1,
   "id": "e926e906",
   "metadata": {},
   "outputs": [],
   "source": [
    "print(\"Hello World\")"
   ]
  },
  {
   "cell_type": "markdown",
   "id": "6fb985de",
   "metadata": {},
   "source": [
    "## Aula 03 - Tipos de Variáveis\n"
   ]
  },
  {
   "cell_type": "markdown",
   "id": "5dcbbf09",
   "metadata": {},
   "source": [
    "### Variáveis"
   ]
  },
  {
   "cell_type": "markdown",
   "id": "29e1c948",
   "metadata": {},
   "source": [
    "Variáveis são pedacinhos de memória onde armazenamos valores. Sempre que referenciamos o nome de uma variável, o valor é acessado. Definimos uma variável dando um nome a ela e usando o sinal de igual (=) para atribuir um valor."
   ]
  },
  {
   "cell_type": "code",
   "execution_count": 2,
   "id": "ee031100",
   "metadata": {},
   "outputs": [],
   "source": [
    "x = -10 # uma variável do tipo inteiro (int)"
   ]
  },
  {
   "cell_type": "code",
   "execution_count": 3,
   "id": "2ce66825",
   "metadata": {},
   "outputs": [
    {
     "name": "stdout",
     "output_type": "stream",
     "text": [
      "-10\n"
     ]
    }
   ],
   "source": [
    "print(x)"
   ]
  },
  {
   "cell_type": "code",
   "execution_count": 4,
   "id": "ccab4ae4",
   "metadata": {},
   "outputs": [
    {
     "name": "stdout",
     "output_type": "stream",
     "text": [
      "<class 'int'>\n"
     ]
    }
   ],
   "source": [
    "print(type(x))"
   ]
  },
  {
   "cell_type": "code",
   "execution_count": 5,
   "id": "175b5242",
   "metadata": {},
   "outputs": [],
   "source": [
    "y = 3.14 # uma variável do tipo real (float)"
   ]
  },
  {
   "cell_type": "code",
   "execution_count": 6,
   "id": "aaaeea8f",
   "metadata": {},
   "outputs": [
    {
     "name": "stdout",
     "output_type": "stream",
     "text": [
      "3.14\n"
     ]
    }
   ],
   "source": [
    "print(y)"
   ]
  },
  {
   "cell_type": "code",
   "execution_count": 7,
   "id": "d831f309",
   "metadata": {},
   "outputs": [
    {
     "name": "stdout",
     "output_type": "stream",
     "text": [
      "<class 'float'>\n"
     ]
    }
   ],
   "source": [
    "print(type(y))"
   ]
  },
  {
   "cell_type": "code",
   "execution_count": 8,
   "id": "def104b0",
   "metadata": {},
   "outputs": [],
   "source": [
    "escola = \"Let's Code\" # uma variável literal (string)"
   ]
  },
  {
   "cell_type": "code",
   "execution_count": 9,
   "id": "33e28217",
   "metadata": {},
   "outputs": [
    {
     "name": "stdout",
     "output_type": "stream",
     "text": [
      "Let's Code\n"
     ]
    }
   ],
   "source": [
    "print(escola)"
   ]
  },
  {
   "cell_type": "code",
   "execution_count": 10,
   "id": "419c4789",
   "metadata": {},
   "outputs": [
    {
     "name": "stdout",
     "output_type": "stream",
     "text": [
      "<class 'str'>\n"
     ]
    }
   ],
   "source": [
    "print(type(escola))"
   ]
  },
  {
   "cell_type": "code",
   "execution_count": 11,
   "id": "2ec5263a",
   "metadata": {},
   "outputs": [],
   "source": [
    "primeiraAula = True # uma variável lógica (booleana)"
   ]
  },
  {
   "cell_type": "code",
   "execution_count": 12,
   "id": "25a4d7bf",
   "metadata": {},
   "outputs": [
    {
     "name": "stdout",
     "output_type": "stream",
     "text": [
      "True\n"
     ]
    }
   ],
   "source": [
    "print(primeiraAula)"
   ]
  },
  {
   "cell_type": "code",
   "execution_count": 13,
   "id": "c9736cb1",
   "metadata": {},
   "outputs": [
    {
     "name": "stdout",
     "output_type": "stream",
     "text": [
      "<class 'bool'>\n"
     ]
    }
   ],
   "source": [
    "print(type(primeiraAula))"
   ]
  },
  {
   "cell_type": "markdown",
   "id": "e3569982",
   "metadata": {},
   "source": [
    "Note que o operador igual (=) NÃO possui o mesmo comportamento da matemática. Na matemática, ele é um operador bidirecional: x = 2y seria a mesma coisa que 2y = x. No Python, ele é o que chamamos de um operador de ATRIBUIÇÃO: A expressão à direita do sinal é resolvida e seu resultado é armazenado na variável à esquerda."
   ]
  },
  {
   "cell_type": "markdown",
   "id": "f0511c5a",
   "metadata": {},
   "source": [
    "### Comentários"
   ]
  },
  {
   "cell_type": "code",
   "execution_count": 14,
   "id": "76d475c4",
   "metadata": {},
   "outputs": [
    {
     "data": {
      "text/plain": [
       "'\\nO símbolo # é um comentário de apenas 1 linha.\\nUsando 3 aspas simples consecutivas é possível abrir um bloco de comentário\\nde múltiplas linhas. O bloco se encerra com outras 3 aspas simples.\\n'"
      ]
     },
     "execution_count": 14,
     "metadata": {},
     "output_type": "execute_result"
    }
   ],
   "source": [
    "# Linhas iniciadas com # são comentários.\n",
    "# Comentários são ignorados pelo Python e servem para explicar o código.\n",
    "'''\n",
    "O símbolo # é um comentário de apenas 1 linha.\n",
    "Usando 3 aspas simples consecutivas é possível abrir um bloco de comentário\n",
    "de múltiplas linhas. O bloco se encerra com outras 3 aspas simples.\n",
    "'''"
   ]
  },
  {
   "cell_type": "markdown",
   "id": "110cb68c",
   "metadata": {},
   "source": [
    "## Aula 04 - Operadores"
   ]
  },
  {
   "cell_type": "markdown",
   "id": "00ad45e0",
   "metadata": {},
   "source": [
    "### Operadores aritméticos"
   ]
  },
  {
   "cell_type": "code",
   "execution_count": 15,
   "id": "03c86727",
   "metadata": {},
   "outputs": [
    {
     "name": "stdout",
     "output_type": "stream",
     "text": [
      "5 -1 6 0.6666666666666666 0 8 2\n"
     ]
    }
   ],
   "source": [
    "# Podemos fazer operações aritméticas simples\n",
    "a = 2 + 3  # Soma\n",
    "b = 2 - 3  # Subtração\n",
    "c = 2 * 3  # Multiplicação\n",
    "d = 2 / 3  # Divisão\n",
    "e = 2 // 3 # Divisão inteira\n",
    "f = 2 ** 3 # Potência\n",
    "g = 2 % 3  # Resto de divisão\n",
    "\n",
    "print (a, b, c, d, e, f, g)"
   ]
  },
  {
   "cell_type": "code",
   "execution_count": 16,
   "id": "b462d7e8",
   "metadata": {},
   "outputs": [
    {
     "name": "stdout",
     "output_type": "stream",
     "text": [
      "6 0\n"
     ]
    }
   ],
   "source": [
    "# Podemos fazer operações dentro do print\n",
    "\n",
    "print (a+1, b+1)"
   ]
  },
  {
   "cell_type": "code",
   "execution_count": 17,
   "id": "dd98acd1",
   "metadata": {},
   "outputs": [
    {
     "name": "stdout",
     "output_type": "stream",
     "text": [
      "Digite seu primeiro nome:Karen\n",
      "Karen Schmitt\n"
     ]
    }
   ],
   "source": [
    "#Podemos fazer operações com variáveis não inteiras\n",
    "nome = input('Digite seu primeiro nome:')\n",
    "nome = nome + ' Schmitt'\n",
    "print(nome)"
   ]
  },
  {
   "cell_type": "markdown",
   "id": "bdc02570",
   "metadata": {},
   "source": [
    "### Operadores relacionais"
   ]
  },
  {
   "cell_type": "markdown",
   "id": "f4b7fcb0",
   "metadata": {},
   "source": [
    "Observe o código abaixo:"
   ]
  },
  {
   "cell_type": "code",
   "execution_count": 18,
   "id": "1b8ea75f",
   "metadata": {},
   "outputs": [
    {
     "name": "stdout",
     "output_type": "stream",
     "text": [
      "True\n",
      "False\n"
     ]
    }
   ],
   "source": [
    "comparacao1 = 5 > 3\n",
    "print(comparacao1)\n",
    "comparacao2 = 5 < 3\n",
    "print(comparacao2)"
   ]
  },
  {
   "cell_type": "markdown",
   "id": "46ddb8f1",
   "metadata": {},
   "source": [
    "Ao ser executado, a saída que teremos na tela será:\n",
    "True\n",
    "False"
   ]
  },
  {
   "cell_type": "markdown",
   "id": "0daaa6d5",
   "metadata": {},
   "source": [
    "Isso ocorre porque 5 é maior que 3. Portanto, comparacao1 recebeu uma expressão cujo valor lógico é *verdadeiro*, portanto seu resultado foi True, e o oposto ocorreu para comparacao2.\n",
    "\n",
    "O Python possui 6 operadores relacionais:\n",
    "\n",
    "- Maior que: **>**\n",
    "- Maior ou igual: **>=**\n",
    "- Menor que: **<**\n",
    "- Menor ou igual: **<=**\n",
    "- Igual: **==**\n",
    "- Diferente: **!=**"
   ]
  },
  {
   "cell_type": "markdown",
   "id": "ebf81772",
   "metadata": {},
   "source": [
    "Note que o operador para comparar se 2 valores são iguais é ==, e não =. Isso ocorre porque o operador = é o nosso operador de atribuição: ele diz que a variável à sua esquerda deve receber o valor da expressão à direita. O operador == irá testar se o valor à sua esquerda é igual ao valor à sua direita e irá responder True ou False, como todos os outros operadores de comparação."
   ]
  },
  {
   "cell_type": "markdown",
   "id": "3eab4c53",
   "metadata": {},
   "source": [
    "### Operadores lógicos"
   ]
  },
  {
   "cell_type": "markdown",
   "id": "7a8d02a9",
   "metadata": {},
   "source": [
    "Em alguns casos também precisamos testar se duas ou mais condições são verdadeiras. Para isso utilizaremos as conjunções lógicas:\n",
    "\n",
    "- **and**: verdadeiro se condição 1 for verdadeira e condição 2 for verdadeira\n",
    "- **or**: verdadeiro se condição 1 for verdadeira ou condição 2 for verdadeira"
   ]
  },
  {
   "cell_type": "markdown",
   "id": "624a50e1",
   "metadata": {},
   "source": [
    "No exemplo abaixo, o resultado é verdadeiro para comparacao1 e falso para comparacao2."
   ]
  },
  {
   "cell_type": "code",
   "execution_count": 19,
   "id": "103f51c2",
   "metadata": {},
   "outputs": [],
   "source": [
    "comparacao1 = 5 > 3 and 6 > 3\n",
    "comparacao2 = 5 < 3 and 6 > 3"
   ]
  },
  {
   "cell_type": "markdown",
   "id": "08edfb3c",
   "metadata": {},
   "source": [
    "Já no exemplo seguinte, tanto comparacao1 quanto comparacao2 retornam o valor verdadeiro."
   ]
  },
  {
   "cell_type": "code",
   "execution_count": 20,
   "id": "72627344",
   "metadata": {},
   "outputs": [],
   "source": [
    "comparacao1 = 5 > 3 or 6 > 3\n",
    "comparacao2 = 5 < 3 or 6 > 3"
   ]
  },
  {
   "cell_type": "markdown",
   "id": "c78fa534",
   "metadata": {},
   "source": [
    "Também é possível negar uma expressão lógica usando o not. Em outras palavras, se comparacao1 = 5 > 3 é verdadeira, comparacao1 = not(5 > 3) será falsa, e vice-versa."
   ]
  },
  {
   "cell_type": "markdown",
   "id": "9a3c86c8",
   "metadata": {},
   "source": [
    "## Aula 05 - Estruturas Sequenciais"
   ]
  },
  {
   "cell_type": "markdown",
   "id": "e448dec3",
   "metadata": {},
   "source": [
    "### Outputs"
   ]
  },
  {
   "cell_type": "markdown",
   "id": "a8099cf2",
   "metadata": {},
   "source": [
    "Chamamos de **saídas** ou **outputs** do nosso programa todos os dados que são gerados pelo programa e fornecidos para o usuário.\n",
    "\n",
    "Já conhecemos a função print() que recebe um valor ou uma sequência de valores e realiza a tarefa de imprimí-los na tela."
   ]
  },
  {
   "cell_type": "code",
   "execution_count": 21,
   "id": "241ae375",
   "metadata": {},
   "outputs": [],
   "source": [
    "y = 3.14 # uma variável do tipo real (float)\n",
    "escola = \"Let's Code\" # uma variável literal (string)"
   ]
  },
  {
   "cell_type": "code",
   "execution_count": 22,
   "id": "330404f3",
   "metadata": {},
   "outputs": [
    {
     "name": "stdout",
     "output_type": "stream",
     "text": [
      "eu estudo na  Let's Code\n",
      "pi vale 3.14\n"
     ]
    }
   ],
   "source": [
    "# Podemos exibir textos na tela e/ou valores de variáveis com a função print().\n",
    "print('eu estudo na ', escola)\n",
    "print('pi vale', y)"
   ]
  },
  {
   "cell_type": "code",
   "execution_count": 23,
   "id": "60439cbc",
   "metadata": {},
   "outputs": [
    {
     "name": "stdout",
     "output_type": "stream",
     "text": [
      "4.140000000000001 9.8596\n"
     ]
    }
   ],
   "source": [
    "# Podemos fazer operações dentro do print:\n",
    "print (y+1, y**2)"
   ]
  },
  {
   "cell_type": "markdown",
   "id": "6abdbba9",
   "metadata": {},
   "source": [
    "### Inputs"
   ]
  },
  {
   "cell_type": "markdown",
   "id": "a6c9f723",
   "metadata": {},
   "source": [
    "Já as **entradas** ou **inputs** do nosso programa são as informações que o usuário possui e deve fornecer ao código."
   ]
  },
  {
   "cell_type": "code",
   "execution_count": 24,
   "id": "f25e0a0b",
   "metadata": {},
   "outputs": [
    {
     "name": "stdout",
     "output_type": "stream",
     "text": [
      "Digite o seu nome: Karen\n"
     ]
    }
   ],
   "source": [
    "# Podemos ler valores do teclado com a função input().\n",
    "# Ela permite que a gente passe uma mensagem para o usuário.\n",
    "nome = input('Digite o seu nome: ')"
   ]
  },
  {
   "cell_type": "code",
   "execution_count": 25,
   "id": "6306a738",
   "metadata": {},
   "outputs": [
    {
     "name": "stdout",
     "output_type": "stream",
     "text": [
      "Digite o seu peso: 53\n",
      "Digite a sua idade: 27\n"
     ]
    }
   ],
   "source": [
    "# Tudo que é lido por input() é considerado uma string (str).\n",
    "# Para tratar como outros tipos de dados é necessário realizar a conversão:\n",
    "peso = float(input('Digite o seu peso: ')) # lê o peso como número real\n",
    "idade = int(input('Digite a sua idade: ')) # lê a idade como número inteiro"
   ]
  },
  {
   "cell_type": "code",
   "execution_count": 26,
   "id": "55cb87f1",
   "metadata": {},
   "outputs": [
    {
     "name": "stdout",
     "output_type": "stream",
     "text": [
      "Karen pesa 53.0 kg e tem 27 anos de idade.\n"
     ]
    }
   ],
   "source": [
    "print(nome, 'pesa', peso, 'kg e tem', idade, 'anos de idade.')"
   ]
  },
  {
   "cell_type": "markdown",
   "id": "18471121",
   "metadata": {},
   "source": [
    "## Aula 06 - Estruturas Condicionais"
   ]
  },
  {
   "cell_type": "markdown",
   "id": "98d99b75",
   "metadata": {},
   "source": [
    "### If"
   ]
  },
  {
   "cell_type": "markdown",
   "id": "04eca708",
   "metadata": {},
   "source": [
    "O if testa uma condição:\n",
    "\n",
    "- se ela for verdadeira, seu conteúdo é executado;\n",
    "- caso contrário, seu conteúdo é ignorado."
   ]
  },
  {
   "cell_type": "code",
   "execution_count": 27,
   "id": "475da10c",
   "metadata": {},
   "outputs": [
    {
     "name": "stdout",
     "output_type": "stream",
     "text": [
      "Digite sua idade:27\n",
      "Você pode entrar na montanha russa.\n",
      "Obrigado por participar.\n"
     ]
    }
   ],
   "source": [
    "idade = int(input('Digite sua idade:'))\n",
    "if idade >= 12:\n",
    "    print('Você pode entrar na montanha russa.')\n",
    "print('Obrigado por participar.')"
   ]
  },
  {
   "cell_type": "code",
   "execution_count": 28,
   "id": "293545c6",
   "metadata": {},
   "outputs": [
    {
     "name": "stdout",
     "output_type": "stream",
     "text": [
      "Digite sua altura, em metros:1.64\n",
      "Você pode entrar na montanha russa.\n",
      "Obrigado por participar.\n"
     ]
    }
   ],
   "source": [
    "altura = float(input('Digite sua altura, em metros:'))\n",
    "if idade >= 12 and altura >= 1.60:\n",
    "    print('Você pode entrar na montanha russa.')\n",
    "print('Obrigado por participar.')"
   ]
  },
  {
   "cell_type": "markdown",
   "id": "3404704d",
   "metadata": {},
   "source": [
    "Utilizamos um 'tab' antes de cada linha pertencente ao if. No exemplo acima, a linha 'obrigado por participar' sempre será exibida. Já a linha 'Você pode entrar na montanha russa.' só será exibida se a idade digitada for maior ou igual a 12 e a altura digitada for maior ou igual a 1.60."
   ]
  },
  {
   "cell_type": "markdown",
   "id": "fb3f8875",
   "metadata": {},
   "source": [
    "### Else"
   ]
  },
  {
   "cell_type": "markdown",
   "id": "fe459a53",
   "metadata": {},
   "source": [
    "Em alguns casos, queremos que o programa escolha entre 2 casos mutuamente exclusivos. Para isso utilizamos o else. O else não possui condição para verificar. O else sempre vem imediatamente após um if e é executado se o if for ignorado.\n"
   ]
  },
  {
   "cell_type": "code",
   "execution_count": 31,
   "id": "abf0fd7f",
   "metadata": {},
   "outputs": [
    {
     "name": "stdout",
     "output_type": "stream",
     "text": [
      "Digite sua idade:27\n",
      "Digite sua altura, em metros:1.64\n",
      "Você pode entrar na montanha russa.\n",
      "Obrigado por participar.\n"
     ]
    }
   ],
   "source": [
    "idade = int(input('Digite sua idade:'))\n",
    "altura = float(input('Digite sua altura, em metros:'))\n",
    "if idade >= 12 and altura >= 1.60:\n",
    "    print('Você pode entrar na montanha russa.')\n",
    "else:\n",
    "    print('Você não pode entrar na montanha russa.')\n",
    "print('Obrigado por participar.')"
   ]
  },
  {
   "cell_type": "markdown",
   "id": "f6bb22ab",
   "metadata": {},
   "source": [
    "É possível \"aninhar\" diversos if's e else's. O programa abaixo só deixa a pessoa entrar no brinquedo se tiver idade e altura mínimas:\n"
   ]
  },
  {
   "cell_type": "code",
   "execution_count": 32,
   "id": "3bc66b10",
   "metadata": {},
   "outputs": [
    {
     "name": "stdout",
     "output_type": "stream",
     "text": [
      "Digite sua idade:27\n",
      "Você gostaria de entrar nesta montanha russa?sim\n",
      "Por favor, entre!\n"
     ]
    }
   ],
   "source": [
    "idade = int(input('Digite sua idade:'))\n",
    "if idade >= 12:\n",
    "    resposta = input('Você gostaria de entrar nesta montanha russa?')\n",
    "    if (resposta == 'sim'):\n",
    "        print('Por favor, entre!')\n",
    "    else:\n",
    "        print('Ok então')\n",
    "else:\n",
    "    print('Você não tem idade suficiente para entrar nesse brinquedo.')"
   ]
  },
  {
   "cell_type": "markdown",
   "id": "0991504d",
   "metadata": {},
   "source": [
    "### Elif"
   ]
  },
  {
   "cell_type": "markdown",
   "id": "5f485b60",
   "metadata": {},
   "source": [
    "Podemos testar diversos casos mutuamente exclusivos utilizando o 'elif'.\n",
    "\n",
    "O comando elif é a contração de \"else if\" - ou seja, caso um if não seja executado, você pode propor uma nova condição para ser testada."
   ]
  },
  {
   "cell_type": "code",
   "execution_count": 33,
   "id": "23e7836c",
   "metadata": {},
   "outputs": [
    {
     "name": "stdout",
     "output_type": "stream",
     "text": [
      "Quantos exercícios de Python vc já fez?50\n",
      "Já está ficando profissional!\n"
     ]
    }
   ],
   "source": [
    "exercicios = int(input('Quantos exercícios de Python vc já fez?'))\n",
    "\n",
    "if exercicios > 30:\n",
    "    print('Já está ficando profissional!')\n",
    "elif exercicios > 20:\n",
    "    print('Tá indo bem, bora fazer mais alguns!')\n",
    "elif exercicios > 10:\n",
    "    print('Vamos tirar o atraso?')\n",
    "else:\n",
    "    print('Xiiii...')"
   ]
  },
  {
   "cell_type": "markdown",
   "id": "80c217ae",
   "metadata": {},
   "source": [
    "Observe que a união das 3 estruturas (if-elif-else) implica que seu código seguirá apenas um dos possíveis caminhos, obrigatoriamente.\n"
   ]
  },
  {
   "cell_type": "markdown",
   "id": "82adfc20",
   "metadata": {},
   "source": [
    "## Aula 07 - Estruturas de Repetição"
   ]
  },
  {
   "cell_type": "markdown",
   "id": "f42db117",
   "metadata": {},
   "source": [
    "### While"
   ]
  },
  {
   "cell_type": "markdown",
   "id": "e0778bd3",
   "metadata": {},
   "source": [
    "O while é bastante parecido com um 'if': ele possui uma expressão, e é executado caso ela seja verdadeira. Mas o if é executado apenas uma vez, e depois o código segue adiante.\n",
    "\n",
    "O while não: ao final de sua execução, ele torna a testar a expressão, e caso ela seja verdadeira, ele repete sua execução."
   ]
  },
  {
   "cell_type": "code",
   "execution_count": null,
   "id": "8b229584",
   "metadata": {},
   "outputs": [],
   "source": [
    "horario = int(input('Qual horario é agora? '))\n",
    "\n",
    "# Testando a condição uma única vez com o if:\n",
    "if 0 < horario < 6:\n",
    "    print('Você está no horario da madrugada')\n",
    "else:\n",
    "    print('Você nao está no horario da madrugada')"
   ]
  },
  {
   "cell_type": "code",
   "execution_count": null,
   "id": "9622867b",
   "metadata": {},
   "outputs": [],
   "source": [
    "# Testando a condição em loop com o while:\n",
    "while 0 < horario < 6:\n",
    "    print('Você está no horario da madrugada')\n",
    "    horario = horario + 1\n",
    "else:\n",
    "    print('Você nao está no horario da madrugada')"
   ]
  },
  {
   "cell_type": "code",
   "execution_count": null,
   "id": "330ebfb2",
   "metadata": {},
   "outputs": [],
   "source": [
    "# O while permite continuar decrementando o número de pipocas até chegar em 0:\n",
    "num_pipocas = int(input('Digite o numero de pipocas: '))\n",
    "\n",
    "while num_pipocas > 0:\n",
    "    print('O numero de pipocas é: ', num_pipocas)\n",
    "    num_pipocas = num_pipocas - 1"
   ]
  },
  {
   "cell_type": "markdown",
   "id": "7865f17f",
   "metadata": {},
   "source": [
    "### Validação de entrada"
   ]
  },
  {
   "cell_type": "markdown",
   "id": "c1659622",
   "metadata": {},
   "source": [
    "Uma utilidade interessante do while é obrigar o usuário a digitar apenas entradas válidas.\n"
   ]
  },
  {
   "cell_type": "code",
   "execution_count": null,
   "id": "ef6a270e",
   "metadata": {},
   "outputs": [],
   "source": [
    "# o exemplo abaixo não aceita um salário menor do que o mínimo atual:\n",
    "salario = float(input('Digite seu salario: '))\n",
    "while salario < 998.0:\n",
    "    salario = float(input('Entre com um salario MAIOR DO QUE 998.0: '))\n",
    "else:\n",
    "    print('O salario que você entrou foi: ', salario)"
   ]
  },
  {
   "cell_type": "code",
   "execution_count": null,
   "id": "f439e52f",
   "metadata": {},
   "outputs": [],
   "source": [
    "# o exemplo abaixo só sai do loop quando o usuário digitar \"OK\":\n",
    "resposta = input('Digite OK: ')\n",
    "while resposta != 'OK':\n",
    "    resposta = input('Não foi isso que eu pedi, digite OK: ')"
   ]
  },
  {
   "cell_type": "markdown",
   "id": "293e62f1",
   "metadata": {},
   "source": [
    "### Contador"
   ]
  },
  {
   "cell_type": "markdown",
   "id": "e8a957e4",
   "metadata": {},
   "source": [
    "Todo tipo de código que deve se repetir várias vezes pode ser feito com o while, como somar vários valores, gerar uma sequência etc. Nestes casos, é normal utilizar um contador:"
   ]
  },
  {
   "cell_type": "code",
   "execution_count": null,
   "id": "cac199f3",
   "metadata": {},
   "outputs": [],
   "source": [
    "# Declaramos um contador como 0:\n",
    "contador = 0\n",
    "# Definimos o número de repetições:\n",
    "numero = int(input('Digite um numero: '))\n",
    "# Rodamos o while até o contador se igualar ao número de repetições:\n",
    "while contador < numero:\n",
    "    print(contador)\n",
    "    contador = contador + 1"
   ]
  },
  {
   "cell_type": "markdown",
   "id": "9b8254b8",
   "metadata": {},
   "source": [
    "### Break"
   ]
  },
  {
   "cell_type": "markdown",
   "id": "fe057916",
   "metadata": {},
   "source": [
    "Um jeito de forçar um loop a ser interrompido é utilizando o comando 'break'. O loop abaixo em tese seria infinito, mas se a condição do if for verificada, o break é executado e conseguimos escapar do loop:\n"
   ]
  },
  {
   "cell_type": "code",
   "execution_count": null,
   "id": "bbc0071d",
   "metadata": {},
   "outputs": [],
   "source": [
    "while True:\n",
    "    resposta = input('Digite OK: ')\n",
    "    if resposta == 'OK':\n",
    "        break"
   ]
  },
  {
   "cell_type": "code",
   "execution_count": null,
   "id": "3b6c7c60",
   "metadata": {},
   "outputs": [],
   "source": []
  }
 ],
 "metadata": {
  "kernelspec": {
   "display_name": "Python 3 (ipykernel)",
   "language": "python",
   "name": "python3"
  },
  "language_info": {
   "codemirror_mode": {
    "name": "ipython",
    "version": 3
   },
   "file_extension": ".py",
   "mimetype": "text/x-python",
   "name": "python",
   "nbconvert_exporter": "python",
   "pygments_lexer": "ipython3",
   "version": "3.9.4"
  }
 },
 "nbformat": 4,
 "nbformat_minor": 5
}
